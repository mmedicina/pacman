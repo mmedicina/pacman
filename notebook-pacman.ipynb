{
 "cells": [
  {
   "cell_type": "code",
   "execution_count": 1,
   "id": "presidential-sense",
   "metadata": {},
   "outputs": [],
   "source": [
    "import numpy as np \n",
    "import pandas as pd \n",
    "import matplotlib.pyplot as plt"
   ]
  },
  {
   "cell_type": "code",
   "execution_count": 33,
   "id": "promotional-drilling",
   "metadata": {},
   "outputs": [
    {
     "name": "stdout",
     "output_type": "stream",
     "text": [
      "['ghostAgents.py', 'keyboardAgents.py', 'WinnerAgents.py', 'pacmanAgents.py', 'RLAgents.py', 'captureAgents.py']\n",
      "<module 'ghostAgents' from '/home/mmmedicina/IMECCGW/Reinforcement Learning/pacman/ghostAgents.py'>\n",
      "<module 'keyboardAgents' from '/home/mmmedicina/IMECCGW/Reinforcement Learning/pacman/keyboardAgents.py'>\n",
      "<module 'WinnerAgents' from '/home/mmmedicina/IMECCGW/Reinforcement Learning/pacman/WinnerAgents.py'>\n",
      "<module 'pacmanAgents' from '/home/mmmedicina/IMECCGW/Reinforcement Learning/pacman/pacmanAgents.py'>\n",
      "<module 'RLAgents' from '/home/mmmedicina/IMECCGW/Reinforcement Learning/pacman/RLAgents.py'>\n",
      "['ghostAgents.py', 'keyboardAgents.py', 'WinnerAgents.py', 'pacmanAgents.py', 'RLAgents.py', 'captureAgents.py']\n",
      "<module 'ghostAgents' from '/home/mmmedicina/IMECCGW/Reinforcement Learning/pacman/ghostAgents.py'>\n",
      "games30\n",
      "games11\n",
      "Training Process is Done\n",
      "------------------------\n",
      "\t11 training episodes \n",
      "Pacman died! Score: -446\n",
      "Pacman died! Score: -73\n",
      "Pacman died! Score: -166\n",
      "Pacman died! Score: -54\n",
      "Pacman died! Score: -446\n",
      "Pacman died! Score: -84\n",
      "Pacman died! Score: -446\n",
      "Pacman died! Score: -61\n",
      "Pacman died! Score: -293\n",
      "Pacman died! Score: -284\n",
      "Pacman died! Score: -446\n",
      "Pacman died! Score: -446\n",
      "Pacman died! Score: -130\n",
      "Pacman died! Score: -72\n",
      "Pacman died! Score: -172\n",
      "Pacman emerges victorious! Score: 986\n",
      "Pacman died! Score: -429\n",
      "Pacman died! Score: -446\n",
      "Pacman emerges victorious! Score: 986\n",
      "Average Score: -132.73684210526315\n",
      "Win Rate:      2/19 (0.11)\n"
     ]
    }
   ],
   "source": [
    "!python pacman.py -n 30 -p RLAgent -q -x 11 -l smallClassic"
   ]
  },
  {
   "cell_type": "code",
   "execution_count": null,
   "id": "surface-repeat",
   "metadata": {},
   "outputs": [],
   "source": []
  }
 ],
 "metadata": {
  "kernelspec": {
   "display_name": "Python 3",
   "language": "python",
   "name": "python3"
  },
  "language_info": {
   "codemirror_mode": {
    "name": "ipython",
    "version": 3
   },
   "file_extension": ".py",
   "mimetype": "text/x-python",
   "name": "python",
   "nbconvert_exporter": "python",
   "pygments_lexer": "ipython3",
   "version": "3.8.3"
  }
 },
 "nbformat": 4,
 "nbformat_minor": 5
}
